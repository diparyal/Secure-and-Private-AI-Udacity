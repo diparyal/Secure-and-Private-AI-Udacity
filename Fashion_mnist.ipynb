{
  "nbformat": 4,
  "nbformat_minor": 0,
  "metadata": {
    "colab": {
      "name": "Fashion mnist.ipynb",
      "provenance": [],
      "collapsed_sections": []
    },
    "kernelspec": {
      "name": "python3",
      "display_name": "Python 3"
    }
  },
  "cells": [
    {
      "cell_type": "code",
      "metadata": {
        "id": "j9R2cBU8Ua9K",
        "colab_type": "code",
        "colab": {}
      },
      "source": [
        "import torch\n",
        "from torchvision import datasets, transforms\n",
        "\n",
        "# Define a transform to normalize the data\n",
        "transform = transforms.Compose([transforms.ToTensor(),\n",
        "                                transforms.Normalize((0.5,), (0.5,))])\n",
        "# Download and load the training data\n",
        "trainset = datasets.FashionMNIST('~/.pytorch/F_MNIST_data/', download=True, train=True, transform=transform)\n",
        "trainloader = torch.utils.data.DataLoader(trainset, batch_size=64, shuffle=True)\n",
        "\n",
        "# Download and load the test data\n",
        "testset = datasets.FashionMNIST('~/.pytorch/F_MNIST_data/', download=True, train=False, transform=transform)\n",
        "testloader = torch.utils.data.DataLoader(testset, batch_size=64, shuffle=True)"
      ],
      "execution_count": 0,
      "outputs": []
    },
    {
      "cell_type": "code",
      "metadata": {
        "id": "JRW49StFlBTo",
        "colab_type": "code",
        "colab": {}
      },
      "source": [
        "from torch import nn, optim\n",
        "import torch.nn.functional as F"
      ],
      "execution_count": 0,
      "outputs": []
    },
    {
      "cell_type": "code",
      "metadata": {
        "id": "rOUgIov-UjIw",
        "colab_type": "code",
        "colab": {}
      },
      "source": [
        "\n",
        "\n",
        "class Classifier(nn.Module):\n",
        "    def __init__(self):\n",
        "        super().__init__()\n",
        "        self.fc1 = nn.Linear(784, 256)\n",
        "        self.fc2 = nn.Linear(256, 128)\n",
        "        self.fc3 = nn.Linear(128, 64)\n",
        "        self.fc4 = nn.Linear(64, 10)\n",
        "        \n",
        "    def forward(self, x):\n",
        "        # make sure input tensor is flattened\n",
        "        x = x.view(x.shape[0], -1)\n",
        "        \n",
        "        x = F.relu(self.fc1(x))\n",
        "        x = F.relu(self.fc2(x))\n",
        "        x = F.relu(self.fc3(x))\n",
        "        x = F.log_softmax(self.fc4(x), dim=1)\n",
        "        \n",
        "        return x"
      ],
      "execution_count": 0,
      "outputs": []
    },
    {
      "cell_type": "code",
      "metadata": {
        "id": "UFHrkW2WU-_X",
        "colab_type": "code",
        "outputId": "6d410637-8cb6-4d1b-e082-4ca180f7728a",
        "colab": {
          "base_uri": "https://localhost:8080/",
          "height": 34
        }
      },
      "source": [
        "model = Classifier()\n",
        "\n",
        "images, labels = next(iter(testloader))\n",
        "# Get the class probabilities\n",
        "ps = torch.exp(model(images))\n",
        "# Make sure the shape is appropriate, we should get 10 class probabilities for 64 examples\n",
        "print(ps.shape)"
      ],
      "execution_count": 3,
      "outputs": [
        {
          "output_type": "stream",
          "text": [
            "torch.Size([64, 10])\n"
          ],
          "name": "stdout"
        }
      ]
    },
    {
      "cell_type": "code",
      "metadata": {
        "id": "OMTnTUw_eWZ5",
        "colab_type": "code",
        "colab": {
          "base_uri": "https://localhost:8080/",
          "height": 1000
        },
        "outputId": "c3b6bdf2-8d2a-4f59-b290-3d3924e99cb8"
      },
      "source": [
        "ps"
      ],
      "execution_count": 4,
      "outputs": [
        {
          "output_type": "execute_result",
          "data": {
            "text/plain": [
              "tensor([[0.0915, 0.0881, 0.1045, 0.1228, 0.0968, 0.0860, 0.1006, 0.1008, 0.1038,\n",
              "         0.1051],\n",
              "        [0.0936, 0.0906, 0.1020, 0.1192, 0.0978, 0.0865, 0.1002, 0.1025, 0.1034,\n",
              "         0.1043],\n",
              "        [0.0919, 0.0912, 0.1049, 0.1155, 0.1014, 0.0860, 0.0985, 0.1047, 0.1020,\n",
              "         0.1040],\n",
              "        [0.0935, 0.0889, 0.1032, 0.1180, 0.0997, 0.0845, 0.1006, 0.1021, 0.1027,\n",
              "         0.1068],\n",
              "        [0.0935, 0.0882, 0.1036, 0.1180, 0.0978, 0.0837, 0.1016, 0.1029, 0.1025,\n",
              "         0.1083],\n",
              "        [0.0915, 0.0935, 0.1050, 0.1151, 0.0983, 0.0853, 0.1012, 0.1039, 0.1033,\n",
              "         0.1030],\n",
              "        [0.0929, 0.0893, 0.0994, 0.1166, 0.0997, 0.0881, 0.0994, 0.1036, 0.1010,\n",
              "         0.1101],\n",
              "        [0.0914, 0.0933, 0.1015, 0.1159, 0.1042, 0.0856, 0.0968, 0.1034, 0.1023,\n",
              "         0.1055],\n",
              "        [0.0944, 0.0904, 0.1043, 0.1151, 0.0988, 0.0855, 0.0986, 0.1024, 0.1051,\n",
              "         0.1053],\n",
              "        [0.0943, 0.0905, 0.1028, 0.1167, 0.0972, 0.0851, 0.1006, 0.1039, 0.1035,\n",
              "         0.1054],\n",
              "        [0.0931, 0.0931, 0.1037, 0.1133, 0.0996, 0.0871, 0.1001, 0.1044, 0.1013,\n",
              "         0.1040],\n",
              "        [0.0916, 0.0937, 0.1052, 0.1171, 0.0962, 0.0867, 0.0978, 0.1036, 0.1047,\n",
              "         0.1035],\n",
              "        [0.0945, 0.0873, 0.1034, 0.1190, 0.0985, 0.0828, 0.1017, 0.1021, 0.1045,\n",
              "         0.1062],\n",
              "        [0.0941, 0.0921, 0.1019, 0.1156, 0.0988, 0.0863, 0.0985, 0.1034, 0.1038,\n",
              "         0.1056],\n",
              "        [0.0946, 0.0898, 0.1027, 0.1181, 0.0995, 0.0830, 0.1009, 0.1026, 0.1040,\n",
              "         0.1047],\n",
              "        [0.0941, 0.0910, 0.1049, 0.1165, 0.0992, 0.0850, 0.0982, 0.1040, 0.1022,\n",
              "         0.1047],\n",
              "        [0.0926, 0.0926, 0.1045, 0.1141, 0.0988, 0.0857, 0.1022, 0.1048, 0.1034,\n",
              "         0.1013],\n",
              "        [0.0922, 0.0923, 0.1047, 0.1155, 0.0980, 0.0868, 0.1003, 0.1024, 0.1029,\n",
              "         0.1048],\n",
              "        [0.0930, 0.0931, 0.1044, 0.1160, 0.0973, 0.0851, 0.0997, 0.1047, 0.1036,\n",
              "         0.1030],\n",
              "        [0.0931, 0.0919, 0.1034, 0.1155, 0.0992, 0.0868, 0.0985, 0.1038, 0.1034,\n",
              "         0.1046],\n",
              "        [0.0929, 0.0884, 0.1034, 0.1173, 0.0976, 0.0843, 0.1044, 0.1030, 0.1033,\n",
              "         0.1053],\n",
              "        [0.0934, 0.0886, 0.1034, 0.1191, 0.0993, 0.0852, 0.1018, 0.1021, 0.1027,\n",
              "         0.1043],\n",
              "        [0.0929, 0.0898, 0.1038, 0.1178, 0.0974, 0.0853, 0.0998, 0.1000, 0.1070,\n",
              "         0.1062],\n",
              "        [0.0925, 0.0906, 0.1040, 0.1179, 0.0990, 0.0856, 0.0971, 0.1027, 0.1028,\n",
              "         0.1080],\n",
              "        [0.0936, 0.0913, 0.1045, 0.1165, 0.0971, 0.0855, 0.1012, 0.1039, 0.1031,\n",
              "         0.1033],\n",
              "        [0.0911, 0.0917, 0.1036, 0.1168, 0.1002, 0.0870, 0.0986, 0.1026, 0.1017,\n",
              "         0.1067],\n",
              "        [0.0936, 0.0883, 0.1040, 0.1173, 0.1021, 0.0843, 0.0984, 0.1041, 0.1031,\n",
              "         0.1047],\n",
              "        [0.0941, 0.0908, 0.1047, 0.1169, 0.1003, 0.0847, 0.0971, 0.1046, 0.1023,\n",
              "         0.1044],\n",
              "        [0.0933, 0.0910, 0.1028, 0.1148, 0.1025, 0.0856, 0.0972, 0.1042, 0.1029,\n",
              "         0.1058],\n",
              "        [0.0919, 0.0909, 0.1060, 0.1164, 0.0995, 0.0864, 0.0985, 0.1039, 0.1031,\n",
              "         0.1036],\n",
              "        [0.0933, 0.0908, 0.1033, 0.1173, 0.0995, 0.0857, 0.0977, 0.1051, 0.1016,\n",
              "         0.1058],\n",
              "        [0.0931, 0.0902, 0.1028, 0.1168, 0.0983, 0.0864, 0.0995, 0.1026, 0.1033,\n",
              "         0.1070],\n",
              "        [0.0929, 0.0895, 0.1030, 0.1175, 0.0985, 0.0868, 0.0985, 0.1021, 0.1042,\n",
              "         0.1071],\n",
              "        [0.0917, 0.0927, 0.1019, 0.1159, 0.0990, 0.0877, 0.0981, 0.1033, 0.1023,\n",
              "         0.1074],\n",
              "        [0.0928, 0.0923, 0.1035, 0.1140, 0.1012, 0.0857, 0.0976, 0.1030, 0.1037,\n",
              "         0.1062],\n",
              "        [0.0936, 0.0927, 0.1045, 0.1181, 0.0987, 0.0847, 0.0978, 0.1034, 0.1040,\n",
              "         0.1026],\n",
              "        [0.0927, 0.0902, 0.1029, 0.1161, 0.1015, 0.0843, 0.1006, 0.1037, 0.1031,\n",
              "         0.1048],\n",
              "        [0.0924, 0.0927, 0.1034, 0.1160, 0.0959, 0.0849, 0.0992, 0.1035, 0.1081,\n",
              "         0.1039],\n",
              "        [0.0930, 0.0913, 0.1050, 0.1169, 0.0981, 0.0838, 0.0989, 0.1047, 0.1027,\n",
              "         0.1056],\n",
              "        [0.0937, 0.0911, 0.1060, 0.1178, 0.0974, 0.0858, 0.0968, 0.1034, 0.1043,\n",
              "         0.1037],\n",
              "        [0.0927, 0.0892, 0.1040, 0.1179, 0.0986, 0.0882, 0.1006, 0.1033, 0.0989,\n",
              "         0.1067],\n",
              "        [0.0928, 0.0941, 0.1055, 0.1137, 0.1012, 0.0842, 0.0992, 0.1039, 0.1027,\n",
              "         0.1026],\n",
              "        [0.0928, 0.0891, 0.1059, 0.1185, 0.1009, 0.0817, 0.1015, 0.1018, 0.1031,\n",
              "         0.1047],\n",
              "        [0.0928, 0.0931, 0.1017, 0.1157, 0.0999, 0.0858, 0.0981, 0.1039, 0.1033,\n",
              "         0.1057],\n",
              "        [0.0914, 0.0936, 0.1012, 0.1131, 0.1022, 0.0888, 0.0999, 0.1056, 0.0987,\n",
              "         0.1053],\n",
              "        [0.0934, 0.0926, 0.1027, 0.1133, 0.1001, 0.0869, 0.0995, 0.1039, 0.1034,\n",
              "         0.1042],\n",
              "        [0.0945, 0.0887, 0.1022, 0.1182, 0.1008, 0.0837, 0.1013, 0.1020, 0.1034,\n",
              "         0.1052],\n",
              "        [0.0923, 0.0896, 0.1059, 0.1197, 0.0963, 0.0859, 0.0997, 0.1025, 0.1033,\n",
              "         0.1048],\n",
              "        [0.0932, 0.0931, 0.1038, 0.1121, 0.1007, 0.0870, 0.1005, 0.1036, 0.1025,\n",
              "         0.1034],\n",
              "        [0.0926, 0.0894, 0.1040, 0.1175, 0.1006, 0.0845, 0.0978, 0.1034, 0.1034,\n",
              "         0.1069],\n",
              "        [0.0930, 0.0881, 0.1031, 0.1197, 0.0990, 0.0857, 0.0990, 0.1013, 0.1031,\n",
              "         0.1082],\n",
              "        [0.0916, 0.0899, 0.1041, 0.1182, 0.0994, 0.0863, 0.0977, 0.1028, 0.1031,\n",
              "         0.1069],\n",
              "        [0.0934, 0.0889, 0.1051, 0.1186, 0.1010, 0.0840, 0.0998, 0.1012, 0.1043,\n",
              "         0.1038],\n",
              "        [0.0921, 0.0920, 0.1019, 0.1169, 0.0977, 0.0867, 0.0989, 0.1023, 0.1049,\n",
              "         0.1065],\n",
              "        [0.0923, 0.0928, 0.1028, 0.1158, 0.0993, 0.0877, 0.0969, 0.1031, 0.1036,\n",
              "         0.1057],\n",
              "        [0.0936, 0.0921, 0.1046, 0.1170, 0.0993, 0.0842, 0.0981, 0.1035, 0.1033,\n",
              "         0.1042],\n",
              "        [0.0925, 0.0910, 0.1022, 0.1174, 0.0995, 0.0862, 0.0976, 0.1041, 0.1026,\n",
              "         0.1069],\n",
              "        [0.0922, 0.0919, 0.1026, 0.1132, 0.1012, 0.0876, 0.0998, 0.1050, 0.1002,\n",
              "         0.1063],\n",
              "        [0.0919, 0.0905, 0.1025, 0.1176, 0.0992, 0.0862, 0.1003, 0.1019, 0.1033,\n",
              "         0.1064],\n",
              "        [0.0926, 0.0904, 0.1024, 0.1176, 0.0978, 0.0864, 0.1018, 0.1009, 0.1034,\n",
              "         0.1066],\n",
              "        [0.0946, 0.0882, 0.1034, 0.1175, 0.0984, 0.0834, 0.1022, 0.1023, 0.1033,\n",
              "         0.1066],\n",
              "        [0.0926, 0.0918, 0.1054, 0.1159, 0.0975, 0.0831, 0.1029, 0.1036, 0.1031,\n",
              "         0.1042],\n",
              "        [0.0930, 0.0932, 0.1036, 0.1145, 0.1010, 0.0868, 0.0972, 0.1020, 0.1040,\n",
              "         0.1047],\n",
              "        [0.0926, 0.0910, 0.1038, 0.1185, 0.1001, 0.0853, 0.0995, 0.1049, 0.1019,\n",
              "         0.1024]], grad_fn=<ExpBackward>)"
            ]
          },
          "metadata": {
            "tags": []
          },
          "execution_count": 4
        }
      ]
    },
    {
      "cell_type": "code",
      "metadata": {
        "id": "MUpYsrYZLzAR",
        "colab_type": "code",
        "colab": {
          "base_uri": "https://localhost:8080/",
          "height": 34
        },
        "outputId": "f378cd38-b466-4fcd-b9c5-c42aff365dbd"
      },
      "source": [
        "ps.topk(1)"
      ],
      "execution_count": 5,
      "outputs": [
        {
          "output_type": "execute_result",
          "data": {
            "text/plain": [
              "torch.return_types.topk(...)"
            ]
          },
          "metadata": {
            "tags": []
          },
          "execution_count": 5
        }
      ]
    },
    {
      "cell_type": "code",
      "metadata": {
        "id": "LQSgtq7GS6Xf",
        "colab_type": "code",
        "colab": {
          "base_uri": "https://localhost:8080/",
          "height": 590
        },
        "outputId": "14227527-3e90-43ea-9f0f-a862365a2d4b"
      },
      "source": [
        "print(ps.topk(1,dim=1))"
      ],
      "execution_count": 18,
      "outputs": [
        {
          "output_type": "stream",
          "text": [
            "torch.return_types.topk(\n",
            "values=tensor([[0.6607],\n",
            "        [0.7276],\n",
            "        [0.5785],\n",
            "        [0.8758],\n",
            "        [0.7663],\n",
            "        [0.9991],\n",
            "        [0.9997],\n",
            "        [0.9921],\n",
            "        [0.9391],\n",
            "        [1.0000],\n",
            "        [0.5134],\n",
            "        [0.5553],\n",
            "        [1.0000],\n",
            "        [0.9981],\n",
            "        [0.9982],\n",
            "        [0.9707]]),\n",
            "indices=tensor([[0],\n",
            "        [4],\n",
            "        [3],\n",
            "        [3],\n",
            "        [3],\n",
            "        [9],\n",
            "        [7],\n",
            "        [9],\n",
            "        [5],\n",
            "        [8],\n",
            "        [4],\n",
            "        [0],\n",
            "        [1],\n",
            "        [9],\n",
            "        [7],\n",
            "        [3]]))\n"
          ],
          "name": "stdout"
        }
      ]
    },
    {
      "cell_type": "code",
      "metadata": {
        "id": "rBjmuCdyWg6n",
        "colab_type": "code",
        "colab": {}
      },
      "source": [
        "top_p,top_class=ps.topk(1,dim=1)"
      ],
      "execution_count": 0,
      "outputs": []
    },
    {
      "cell_type": "code",
      "metadata": {
        "id": "0iYCJlpRcYqf",
        "colab_type": "code",
        "outputId": "a1d00827-6f11-466d-e95f-1f4f206e0f83",
        "colab": {
          "base_uri": "https://localhost:8080/",
          "height": 191
        }
      },
      "source": [
        "print(top_class[:10,:])"
      ],
      "execution_count": 8,
      "outputs": [
        {
          "output_type": "stream",
          "text": [
            "tensor([[3],\n",
            "        [3],\n",
            "        [3],\n",
            "        [3],\n",
            "        [3],\n",
            "        [3],\n",
            "        [3],\n",
            "        [3],\n",
            "        [3],\n",
            "        [3]])\n"
          ],
          "name": "stdout"
        }
      ]
    },
    {
      "cell_type": "code",
      "metadata": {
        "id": "ERoozTFER9Wl",
        "colab_type": "code",
        "colab": {
          "base_uri": "https://localhost:8080/",
          "height": 34
        },
        "outputId": "ceea4db2-2e0b-4ad5-b3a0-47f13e42d459"
      },
      "source": [
        "top_class.shape"
      ],
      "execution_count": 9,
      "outputs": [
        {
          "output_type": "execute_result",
          "data": {
            "text/plain": [
              "torch.Size([64, 1])"
            ]
          },
          "metadata": {
            "tags": []
          },
          "execution_count": 9
        }
      ]
    },
    {
      "cell_type": "code",
      "metadata": {
        "id": "TADqoJuIR5OD",
        "colab_type": "code",
        "colab": {
          "base_uri": "https://localhost:8080/",
          "height": 1000
        },
        "outputId": "6368b216-aa6b-4b31-b776-c740aac5930c"
      },
      "source": [
        "labels.view(*top_class.shape)"
      ],
      "execution_count": 10,
      "outputs": [
        {
          "output_type": "execute_result",
          "data": {
            "text/plain": [
              "tensor([[5],\n",
              "        [9],\n",
              "        [6],\n",
              "        [7],\n",
              "        [2],\n",
              "        [3],\n",
              "        [4],\n",
              "        [8],\n",
              "        [5],\n",
              "        [3],\n",
              "        [0],\n",
              "        [3],\n",
              "        [7],\n",
              "        [3],\n",
              "        [7],\n",
              "        [1],\n",
              "        [3],\n",
              "        [3],\n",
              "        [3],\n",
              "        [4],\n",
              "        [7],\n",
              "        [7],\n",
              "        [5],\n",
              "        [4],\n",
              "        [1],\n",
              "        [2],\n",
              "        [9],\n",
              "        [1],\n",
              "        [2],\n",
              "        [4],\n",
              "        [3],\n",
              "        [6],\n",
              "        [4],\n",
              "        [4],\n",
              "        [3],\n",
              "        [1],\n",
              "        [3],\n",
              "        [8],\n",
              "        [4],\n",
              "        [1],\n",
              "        [9],\n",
              "        [0],\n",
              "        [7],\n",
              "        [2],\n",
              "        [6],\n",
              "        [0],\n",
              "        [7],\n",
              "        [1],\n",
              "        [0],\n",
              "        [6],\n",
              "        [4],\n",
              "        [2],\n",
              "        [5],\n",
              "        [4],\n",
              "        [4],\n",
              "        [1],\n",
              "        [6],\n",
              "        [8],\n",
              "        [2],\n",
              "        [4],\n",
              "        [7],\n",
              "        [5],\n",
              "        [4],\n",
              "        [3]])"
            ]
          },
          "metadata": {
            "tags": []
          },
          "execution_count": 10
        }
      ]
    },
    {
      "cell_type": "code",
      "metadata": {
        "id": "5MDKjgQgmy5c",
        "colab_type": "code",
        "outputId": "c33adb39-84c6-47c0-a110-116d85992147",
        "colab": {
          "base_uri": "https://localhost:8080/",
          "height": 34
        }
      },
      "source": [
        "equals = top_class == labels\n",
        "equals.shape"
      ],
      "execution_count": 11,
      "outputs": [
        {
          "output_type": "execute_result",
          "data": {
            "text/plain": [
              "torch.Size([64, 64])"
            ]
          },
          "metadata": {
            "tags": []
          },
          "execution_count": 11
        }
      ]
    },
    {
      "cell_type": "code",
      "metadata": {
        "id": "AsLzSbmVfJ_J",
        "colab_type": "code",
        "outputId": "75b23f3b-1e1f-46d8-e2b4-14e57959b865",
        "colab": {
          "base_uri": "https://localhost:8080/",
          "height": 34
        }
      },
      "source": [
        "equals = top_class == labels.view(*top_class.shape)\n",
        "equals.shape\n",
        "# equals"
      ],
      "execution_count": 12,
      "outputs": [
        {
          "output_type": "execute_result",
          "data": {
            "text/plain": [
              "torch.Size([64, 1])"
            ]
          },
          "metadata": {
            "tags": []
          },
          "execution_count": 12
        }
      ]
    },
    {
      "cell_type": "code",
      "metadata": {
        "id": "IOJdzYl3pLjN",
        "colab_type": "code",
        "outputId": "ba9d1bd4-8ecf-475a-c16f-f630afca6b31",
        "colab": {
          "base_uri": "https://localhost:8080/",
          "height": 34
        }
      },
      "source": [
        "accuracy = torch.mean(equals.type(torch.FloatTensor))\n",
        "print(f'Accuracy: {accuracy.item()*100}%')"
      ],
      "execution_count": 13,
      "outputs": [
        {
          "output_type": "stream",
          "text": [
            "Accuracy: 17.1875%\n"
          ],
          "name": "stdout"
        }
      ]
    },
    {
      "cell_type": "code",
      "metadata": {
        "id": "aGEti5jEcZ8b",
        "colab_type": "code",
        "outputId": "b8066365-eb2f-4efd-b093-e4ab785575bc",
        "colab": {
          "base_uri": "https://localhost:8080/",
          "height": 69
        }
      },
      "source": [
        "labels"
      ],
      "execution_count": 14,
      "outputs": [
        {
          "output_type": "execute_result",
          "data": {
            "text/plain": [
              "tensor([5, 9, 6, 7, 2, 3, 4, 8, 5, 3, 0, 3, 7, 3, 7, 1, 3, 3, 3, 4, 7, 7, 5, 4,\n",
              "        1, 2, 9, 1, 2, 4, 3, 6, 4, 4, 3, 1, 3, 8, 4, 1, 9, 0, 7, 2, 6, 0, 7, 1,\n",
              "        0, 6, 4, 2, 5, 4, 4, 1, 6, 8, 2, 4, 7, 5, 4, 3])"
            ]
          },
          "metadata": {
            "tags": []
          },
          "execution_count": 14
        }
      ]
    },
    {
      "cell_type": "code",
      "metadata": {
        "id": "iwFXPYsyp0II",
        "colab_type": "code",
        "outputId": "e12a4044-3148-4899-bab5-db034f4f6811",
        "colab": {
          "base_uri": "https://localhost:8080/",
          "height": 104
        }
      },
      "source": [
        "\n",
        "\n",
        "model = Classifier()\n",
        "criterion = nn.NLLLoss()\n",
        "optimizer = optim.Adam(model.parameters(), lr=0.003)\n",
        "\n",
        "epochs = 5\n",
        "steps = 0\n",
        "\n",
        "train_losses, test_losses = [], []\n",
        "for e in range(epochs):\n",
        "    running_loss = 0\n",
        "    for images, labels in trainloader:\n",
        "        \n",
        "        optimizer.zero_grad()\n",
        "        \n",
        "        log_ps = model(images)\n",
        "        loss = criterion(log_ps, labels)\n",
        "        loss.backward()\n",
        "        optimizer.step()\n",
        "        \n",
        "        running_loss += loss.item()\n",
        "        \n",
        "    else:\n",
        "        test_loss = 0\n",
        "        accuracy = 0\n",
        "        \n",
        "        # Turn off gradients for validation, saves memory and computations\n",
        "        with torch.no_grad():\n",
        "            for images, labels in testloader:\n",
        "                log_ps = model(images)\n",
        "                test_loss += criterion(log_ps, labels)\n",
        "                \n",
        "                ps = torch.exp(log_ps)\n",
        "                top_p, top_class = ps.topk(1, dim=1)\n",
        "                equals = top_class == labels.view(*top_class.shape)\n",
        "                accuracy += torch.mean(equals.type(torch.FloatTensor))\n",
        "                \n",
        "        train_losses.append(running_loss/len(trainloader))\n",
        "        test_losses.append(test_loss/len(testloader))\n",
        "\n",
        "        print(\"Epoch: {}/{}.. \".format(e+1, epochs),\n",
        "              \"Training Loss: {:.3f}.. \".format(running_loss/len(trainloader)),\n",
        "              \"Test Los(...)s: {:.3f}.. \".format(test_loss/len(testloader)),\n",
        "              \"Test Accuracy: {:.3f}\".format(accuracy/len(testloader)))\n",
        "\n"
      ],
      "execution_count": 10,
      "outputs": [
        {
          "output_type": "stream",
          "text": [
            "Epoch: 1/5..  Training Loss: 0.516..  Test Los(...)s: 0.486..  Test Accuracy: 0.824\n",
            "Epoch: 2/5..  Training Loss: 0.391..  Test Los(...)s: 0.388..  Test Accuracy: 0.858\n",
            "Epoch: 3/5..  Training Loss: 0.353..  Test Los(...)s: 0.408..  Test Accuracy: 0.850\n",
            "Epoch: 4/5..  Training Loss: 0.328..  Test Los(...)s: 0.390..  Test Accuracy: 0.864\n",
            "Epoch: 5/5..  Training Loss: 0.313..  Test Los(...)s: 0.392..  Test Accuracy: 0.868\n"
          ],
          "name": "stdout"
        }
      ]
    },
    {
      "cell_type": "code",
      "metadata": {
        "id": "qcISn6USnYca",
        "colab_type": "code",
        "colab": {
          "base_uri": "https://localhost:8080/",
          "height": 284
        },
        "outputId": "ad0cc964-490a-40a8-e559-c566777385ac"
      },
      "source": [
        "%matplotlib inline\n",
        "%config InlineBackend.figure_format = 'retina'\n",
        "\n",
        "import matplotlib.pyplot as plt\n",
        "\n",
        "plt.plot(train_losses, label='Training loss')\n",
        "plt.plot(test_losses, label='Validation loss')\n",
        "plt.legend(frameon=False)"
      ],
      "execution_count": 11,
      "outputs": [
        {
          "output_type": "execute_result",
          "data": {
            "text/plain": [
              "<matplotlib.legend.Legend at 0x7f9421b47fd0>"
            ]
          },
          "metadata": {
            "tags": []
          },
          "execution_count": 11
        },
        {
          "output_type": "display_data",
          "data": {
            "image/png": "[encoded data removed]",
            "text/plain": [
              "<Figure size 432x288 with 1 Axes>"
            ]
          },
          "metadata": {
            "tags": [],
            "image/png": {
              "width": 385,
              "height": 250
            }
          }
        }
      ]
    },
    {
      "cell_type": "code",
      "metadata": {
        "id": "V_IsMGWAdzTV",
        "colab_type": "code",
        "colab": {}
      },
      "source": [
        "class Classifier(nn.Module):\n",
        "  def __init__(self):\n",
        "    super().__init__()\n",
        "    self.fc1=nn.Linear(784,256)\n",
        "    self.fc2=nn.Linear(256,128)\n",
        "    self.fc3=nn.Linear(128,64)\n",
        "    self.fc4=nn.Linear(64,10)\n",
        "\n",
        "    self.dropout=nn.Dropout(p=0.2)\n",
        "\n",
        "  def forward(self,x):\n",
        "    x=x.view(x.shape[0],-1)  #(60,784)\n",
        "\n",
        "    x=self.dropout(F.relu(self.fc1(x)))\n",
        "    x=self.dropout(F.relu(self.fc2(x)))\n",
        "    x=self.dropout(F.relu(self.fc3(x)))\n",
        "\n",
        "    x=F.log_softmax(self.fc4(x),dim=1)\n",
        "\n",
        "    return x\n"
      ],
      "execution_count": 0,
      "outputs": []
    },
    {
      "cell_type": "code",
      "metadata": {
        "id": "KzQ3hLe1hzeQ",
        "colab_type": "code",
        "colab": {
          "base_uri": "https://localhost:8080/",
          "height": 104
        },
        "outputId": "76158f79-0b9f-4d85-e965-0b90cc75f18d"
      },
      "source": [
        "model=Classifier()\n",
        "criterion=nn.NLLLoss()\n",
        "optimizer=optim.Adam(model.parameters(),lr=0.003)\n",
        "\n",
        "epochs=5\n",
        "steps=0\n",
        "\n",
        "train_losses,test_losses=[],[]\n",
        "for e in range(epochs):\n",
        "  running_loss=0\n",
        "  for images,labels in trainloader:\n",
        "    optimizer.zero_grad()\n",
        "    log_ps=model(images)\n",
        "    loss=criterion(log_ps,labels)\n",
        "    loss.backward()\n",
        "    optimizer.step()\n",
        "    running_loss+=loss.item()\n",
        "  else:\n",
        "    test_loss=0\n",
        "    accuracy=0\n",
        "    with torch.no_grad():\n",
        "      model.eval()\n",
        "      for images,labels in testloader:\n",
        "        log_ps=model(images)\n",
        "        test_loss+=criterion(log_ps,labels)\n",
        "        ps = torch.exp(log_ps)\n",
        "        top_p,top_class=ps.topk(1,dim=1)\n",
        "        equals=top_class==labels.view(*top_class.shape)\n",
        "        accuracy+= torch.mean(equals.type(torch.FloatTensor))\n",
        "\n",
        "      model.train()\n",
        "\n",
        "      train_losses.append(running_loss/len(trainloader))\n",
        "      test_losses.append(test_loss/len(testloader))\n",
        "\n",
        "      print(\"Epoch: {}/{}.. \".format(e+1, epochs),\n",
        "              \"Training Loss: {:.3f}.. \".format(running_loss/len(trainloader)),\n",
        "              \"Test Los(...)s: {:.3f}.. \".format(test_loss/len(testloader)),\n",
        "              \"Test Accuracy: {:.3f}\".format(accuracy/len(testloader)))\n",
        "\n"
      ],
      "execution_count": 6,
      "outputs": [
        {
          "output_type": "stream",
          "text": [
            "Epoch: 1/5..  Training Loss: 0.609..  Test Los(...)s: 0.456..  Test Accuracy: 0.837\n",
            "Epoch: 2/5..  Training Loss: 0.486..  Test Los(...)s: 0.425..  Test Accuracy: 0.846\n",
            "Epoch: 3/5..  Training Loss: 0.450..  Test Los(...)s: 0.418..  Test Accuracy: 0.847\n",
            "Epoch: 4/5..  Training Loss: 0.431..  Test Los(...)s: 0.413..  Test Accuracy: 0.852\n",
            "Epoch: 5/5..  Training Loss: 0.418..  Test Los(...)s: 0.416..  Test Accuracy: 0.852\n"
          ],
          "name": "stdout"
        }
      ]
    },
    {
      "cell_type": "code",
      "metadata": {
        "id": "BCPojjwqnDgo",
        "colab_type": "code",
        "colab": {
          "base_uri": "https://localhost:8080/",
          "height": 282
        },
        "outputId": "881a50ae-91ae-44da-de4e-37b8cda2d3f6"
      },
      "source": [
        "plt.plot(train_losses, label='Training loss')\n",
        "plt.plot(test_losses, label='Validation loss')\n",
        "plt.legend(frameon=False)"
      ],
      "execution_count": 8,
      "outputs": [
        {
          "output_type": "execute_result",
          "data": {
            "text/plain": [
              "<matplotlib.legend.Legend at 0x7f94219fd5f8>"
            ]
          },
          "metadata": {
            "tags": []
          },
          "execution_count": 8
        },
        {
          "output_type": "display_data",
          "data": {
            "image/png": "[encoded data removed]",
            "text/plain": [
              "<Figure size 432x288 with 1 Axes>"
            ]
          },
          "metadata": {
            "tags": [],
            "image/png": {
              "width": 385,
              "height": 248
            }
          }
        }
      ]
    },
    {
      "cell_type": "code",
      "metadata": {
        "id": "AJ6lLdiAnGOd",
        "colab_type": "code",
        "colab": {}
      },
      "source": [
        ""
      ],
      "execution_count": 0,
      "outputs": []
    }
  ]
}